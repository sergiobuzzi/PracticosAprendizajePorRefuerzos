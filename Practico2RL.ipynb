{
 "cells": [
  {
   "cell_type": "markdown",
   "metadata": {},
   "source": [
    "# Práctico 2: Aprendizaje por refuerzos\n",
    "\n",
    "Curso Aprendizaje por Refuerzos, Diplomatura en Ciencia de Datos, Aprendizaje Automático y sus Aplicaciones\n",
    "\n",
    "FaMAF, 2019"
   ]
  },
  {
   "cell_type": "markdown",
   "metadata": {},
   "source": [
    "### Ejercicios Lab Final\n",
    "\n",
    "Se pide:\n",
    "\n",
    "1) Implementar Double DQN (DDQN).\n",
    "\n",
    "2) Implementar Dueling DDQN.\n",
    "\n",
    "3) Cambiar el entorno por uno nuevo a elección\n",
    "\n",
    "4) Implementar Prioritized Experience Replay (PER) (Opcional).\n",
    "\n",
    "Opcional: Implementación de un agente DQN convolucional que aprende a jugar a Atari© Space Invaders© (link)"
   ]
  },
  {
   "cell_type": "markdown",
   "metadata": {},
   "source": [
    "#### Inmportación de bibliotecas"
   ]
  },
  {
   "cell_type": "code",
   "execution_count": 1,
   "metadata": {},
   "outputs": [],
   "source": [
    "%matplotlib inline\n",
    "import matplotlib\n",
    "matplotlib.rcParams['figure.figsize'] = 16, 8\n",
    "import matplotlib.pyplot as plt\n",
    "plt.style.use('seaborn-dark')\n",
    "\n",
    "import math\n",
    "import numpy as np\n",
    "import warnings\n",
    "warnings.simplefilter('ignore')\n",
    "import gym\n",
    "import time\n",
    "from IPython.display import clear_output\n",
    "import itertools\n",
    "\n",
    "import random\n",
    "from collections import deque\n",
    "import torch\n",
    "import torch.nn as nn\n",
    "import torch.nn.functional as F\n",
    "from agents.utils.memory.ReplayMemory import ReplayMemory\n",
    "from agents.utils.memory.Transition import Transition"
   ]
  },
  {
   "cell_type": "code",
   "execution_count": 2,
   "metadata": {},
   "outputs": [],
   "source": [
    "env = gym.make('CartPole-v0')\n",
    "env.reset()\n",
    "for _ in range(250):\n",
    "    env.render(mode='human')\n",
    "    observation, reward, done, info = env.step(env.action_space.sample()) # se ejecuta una acción aleatoria\n",
    "    if done:\n",
    "        env.reset()\n",
    "env.close()\n",
    "clear_output()"
   ]
  },
  {
   "cell_type": "markdown",
   "metadata": {},
   "source": [
    "# 1) Double DQN (DDQN)"
   ]
  },
  {
   "cell_type": "code",
   "execution_count": 3,
   "metadata": {},
   "outputs": [],
   "source": [
    "class Net(nn.Module):\n",
    "\n",
    "    def __init__(self, _input_size: int, _output_size: int, _hidden_layers: int, _hidden_size: int):\n",
    "        super(Net, self).__init__()\n",
    "        self.input = nn.Linear(_input_size, _hidden_size)\n",
    "        self.hidden_layers = _hidden_layers\n",
    "        self.hidden = []\n",
    "        for i in range(_hidden_layers):\n",
    "            layer = nn.Linear(_hidden_size, _hidden_size)\n",
    "            self.add_module('h'+str(i), layer)\n",
    "            self.hidden.append(layer)\n",
    "        self.output = nn.Linear(_hidden_size, _output_size)\n",
    "\n",
    "        # init weights\n",
    "        for m in self.modules():\n",
    "            if isinstance(m, nn.Linear):\n",
    "                nn.init.xavier_uniform_(m.weight)\n",
    "                m.bias.data.fill_(0.01)\n",
    "\n",
    "    # Called with either one element to determine next action, or a batch\n",
    "    # during optimization. Returns tensor([[left0exp,right0exp]...]).\n",
    "    def forward(self, x):\n",
    "        x = F.relu(self.input(x))\n",
    "        for i in range(self.hidden_layers):\n",
    "            x = F.relu(self.hidden[i](x))\n",
    "        x = self.output(x)\n",
    "        return x"
   ]
  },
  {
   "cell_type": "code",
   "execution_count": 4,
   "metadata": {},
   "outputs": [],
   "source": [
    "class DDQN:\n",
    "    def __init__(self, env, n_episodes=3000, max_env_steps=None, gamma=0.9,\n",
    "                 epsilon=0.5, epsilon_min=0.05, epsilon_log_decay=0.001, alpha=1e-3,\n",
    "                 memory_size=10000, batch_size=256, c=10, hidden_layers=2, hidden_size=24,\n",
    "                 render=False, debug=False):\n",
    "\n",
    "        self.memory = ReplayMemory(capacity=memory_size)\n",
    "        self.env = env\n",
    "\n",
    "        # hyper-parameter setting\n",
    "        self.gamma = gamma\n",
    "        self.epsilon = epsilon\n",
    "        self.epsilon_min = epsilon_min\n",
    "        self.epsilon_decay = epsilon_log_decay\n",
    "        self.alpha = alpha\n",
    "        self.n_episodes = n_episodes\n",
    "        self.batch_size = batch_size\n",
    "        self.c = c\n",
    "        if max_env_steps is not None:\n",
    "            self.env._max_episode_steps = max_env_steps\n",
    "        self.observation_space_size = env.observation_space.shape[0]\n",
    "        self.action_space_size = env.action_space.n\n",
    "\n",
    "        self.render = render\n",
    "        self.debug = debug\n",
    "        if debug:\n",
    "            self.loss_list = []\n",
    "        # if gpu is to be used\n",
    "        self.device = torch.device(\"cuda\" if torch.cuda.is_available() else \"cpu\")\n",
    "\n",
    "        # Init model 1\n",
    "        # Use the nn package to define our model as a sequence of layers. nn.Sequential\n",
    "        # is a Module which contains other Modules, and applies them in sequence to\n",
    "        # produce its output. Each Linear Module computes output from input using a\n",
    "        # linear function, and holds internal Tensors for its weight and bias.\n",
    "        # After constructing the model we use the .to() method to move it to the\n",
    "        # desired device.\n",
    "        self.model = Net(\n",
    "            self.observation_space_size, self.action_space_size,\n",
    "            hidden_layers, hidden_size).to(self.device)\n",
    "        self.target = Net(\n",
    "            self.observation_space_size, self.action_space_size,\n",
    "            hidden_layers, hidden_size).to(self.device)\n",
    "        self.target.load_state_dict(self.model.state_dict())\n",
    "        self.target.eval()\n",
    "        self.model.train()\n",
    "\n",
    "        # The nn package also contains definitions of popular loss functions; in this\n",
    "        # case we will use Mean Squared Error (MSE) as our loss function. Setting\n",
    "        # reduction='sum' means that we are computing the *sum* of squared errors rather\n",
    "        # than the mean; this is for consistency with the examples above where we\n",
    "        # manually compute the loss, but in practice it is more common to use mean\n",
    "        # squared error as a loss by setting reduction='elementwise_mean'.\n",
    "        self.loss_fn = torch.nn.MSELoss()\n",
    "\n",
    "        # Use the optim package to define an Optimizer that will update the weights of\n",
    "        # the model for us. Here we will use Adam; the optim package contains many other\n",
    "        # optimization algoriths. The first argument to the Adam constructor tells the\n",
    "        # optimizer which Tensors it should update.\n",
    "        self.optimizer = torch.optim.Adam(self.model.parameters(), lr=alpha)\n",
    "\n",
    "    def choose_action(self, state, epsilon):\n",
    "        \"\"\"Chooses the next action according to the model trained and the policy\"\"\"\n",
    "\n",
    "        # exploits the current knowledge if the random number > epsilon, otherwise explores\n",
    "        if np.random.random() <= epsilon:\n",
    "            return self.env.action_space.sample()\n",
    "        else:\n",
    "            with torch.no_grad():\n",
    "                q = self.model(state)\n",
    "                argmax = torch.argmax(q)\n",
    "                return argmax.item()\n",
    "\n",
    "    def get_epsilon(self, episode):\n",
    "        \"\"\"Returns an epsilon that decays over time until a minimum epsilon value is reached; in this case the minimum\n",
    "        value is returned\"\"\"\n",
    "        return max(self.epsilon_min, self.epsilon * math.exp(-self.epsilon_decay * episode))\n",
    "\n",
    "    def replay(self):\n",
    "        \"\"\"Previously stored (s, a, r, s') tuples are replayed (that is, are added into the model). The size of the\n",
    "        tuples added is determined by the batch_size parameter\"\"\"\n",
    "\n",
    "        transitions, _ = self.memory.sample(self.batch_size)\n",
    "        # Transpose the batch (see https://stackoverflow.com/a/19343/3343043 for\n",
    "        # detailed explanation). This converts batch-array of Transitions\n",
    "        # to Transition of batch-arrays.\n",
    "        batch = Transition(*zip(*transitions))\n",
    "        # Compute a mask of non-final states and concatenate the batch elements\n",
    "        # (a final state would've been the one after which simulation ended)\n",
    "        non_final_next_states = torch.stack([s for s in batch.next_state if s is not None])\n",
    "\n",
    "        non_final_mask = torch.stack(batch.done)\n",
    "        state_batch = torch.stack(batch.state)\n",
    "        action_batch = torch.stack(batch.action)\n",
    "        reward_batch = torch.stack(batch.reward)\n",
    "\n",
    "        # Compute Q(s_t, a) - the model computes Q(s_t), then we select the\n",
    "        # columns of actions taken. These are the actions which would've been taken\n",
    "        # for each batch state according to policy_net\n",
    "        state_action_values = self.model(state_batch).gather(1, action_batch)\n",
    "\n",
    "        # Compute V(s_{t+1}) for all next states.\n",
    "        # Expected values of actions for non_final_next_states are computed based\n",
    "        # on the \"older\" target_net; selecting their best reward with max(1)[0].\n",
    "        # This is merged based on the mask, such that we'll have either the expected\n",
    "        # state value or 0 in case the state was final.\n",
    "        with torch.no_grad():\n",
    "            next_state_values = torch.zeros(self.batch_size, device=self.device)\n",
    "            _, next_state_actions = self.model(non_final_next_states).max(1, keepdim=True)\n",
    "            next_non_final_mask = self.target(non_final_next_states).gather(1, next_state_actions).squeeze()\n",
    "            next_state_values[non_final_mask] = next_non_final_mask\n",
    "            # Compute the expected Q values\n",
    "            expected_state_action_values = reward_batch + self.gamma * next_state_values\n",
    "\n",
    "        # Compute loss\n",
    "        loss = self.loss_fn(state_action_values, expected_state_action_values.unsqueeze(1))\n",
    "\n",
    "        if self.debug:\n",
    "            self.loss_list.append(loss)\n",
    "        # Optimize the model\n",
    "        self.optimizer.zero_grad()\n",
    "        loss.backward()\n",
    "        for param in self.model.parameters():\n",
    "            param.grad.data.clamp_(-1, 1)\n",
    "        self.optimizer.step()\n",
    "\n",
    "    def run(self):\n",
    "        \"\"\"Main loop that controls the execution of the agent\"\"\"\n",
    "\n",
    "        scores = []\n",
    "        mean_scores = []\n",
    "        j = 0  # used for model2 update every c steps\n",
    "        for e in range(self.n_episodes):\n",
    "            state = self.env.reset()\n",
    "            state = torch.tensor(state, device=self.device, dtype=torch.float)\n",
    "            done = False\n",
    "            cum_reward = 0\n",
    "            while not done:\n",
    "                action = self.choose_action(\n",
    "                    state,\n",
    "                    self.get_epsilon(e))\n",
    "                next_state, reward, done, _ = self.env.step(action)\n",
    "                next_state = torch.tensor(next_state, device=self.device, dtype=torch.float)\n",
    "\n",
    "                cum_reward += reward\n",
    "                self.memory.push(\n",
    "                    state,  #Converted to tensor in choose_action method\n",
    "                    torch.tensor([action], device=self.device),\n",
    "                    None if done else next_state,\n",
    "                    torch.tensor(reward, device=self.device).clamp_(-1, 1),\n",
    "                    torch.tensor(not done, device=self.device, dtype=torch.bool))\n",
    "\n",
    "                if self.memory.__len__() >= self.batch_size:\n",
    "                    self.replay()\n",
    "\n",
    "                state = next_state\n",
    "                j += 1\n",
    "\n",
    "                # update second model\n",
    "                if j % self.c == 0:\n",
    "                    self.target.load_state_dict(self.model.state_dict())\n",
    "                    self.target.eval()\n",
    "\n",
    "            scores.append(cum_reward)\n",
    "            mean_score = np.mean(scores)\n",
    "            mean_scores.append(mean_score)\n",
    "            if e % 100 == 0 and self.debug:\n",
    "                print('[Episode {}] - Mean reward {}.'.format(e, mean_score))\n",
    "\n",
    "        # noinspection PyUnboundLocalVariable\n",
    "        print('[Episode {}] - Mean reward {}.'.format(e, mean_score))\n",
    "        return scores, mean_scores\n",
    "\n",
    "    def save(self, path):\n",
    "        torch.save(self.model, path)\n",
    "\n",
    "    def load(self, path):\n",
    "        self.model = torch.load(path)\n"
   ]
  },
  {
   "cell_type": "code",
   "execution_count": 5,
   "metadata": {},
   "outputs": [
    {
     "name": "stdout",
     "output_type": "stream",
     "text": [
      "[Episode 0] - Mean reward 39.0.\n",
      "[Episode 100] - Mean reward 89.42574257425743.\n",
      "[Episode 200] - Mean reward 72.33830845771145.\n",
      "[Episode 300] - Mean reward 67.11627906976744.\n",
      "[Episode 400] - Mean reward 58.069825436408976.\n",
      "[Episode 499] - Mean reward 51.902.\n"
     ]
    }
   ],
   "source": [
    "agent = DDQN(gym.make('CartPole-v0'), n_episodes=500, debug=True)\n",
    "scoresDDQN, meanDDQN = agent.run()"
   ]
  },
  {
   "cell_type": "code",
   "execution_count": 6,
   "metadata": {},
   "outputs": [
    {
     "data": {
      "image/png": "[encoded data removed]",
      "text/plain": [
       "<Figure size 432x288 with 1 Axes>"
      ]
     },
     "metadata": {
      "needs_background": "light"
     },
     "output_type": "display_data"
    }
   ],
   "source": [
    "# se muestra el reward/score optenido por episodio\n",
    "plt.plot(np.array(scoresDDQN), label='DDQN', c='#7e5fa4')\n",
    "plt.ylim(0, 250)\n",
    "plt.title('Recompensa por episodio')\n",
    "plt.legend(loc='upper left')\n",
    "plt.show()"
   ]
  },
  {
   "cell_type": "code",
   "execution_count": 7,
   "metadata": {},
   "outputs": [
    {
     "data": {
      "image/png": "[encoded data removed]",
      "text/plain": [
       "<Figure size 432x288 with 1 Axes>"
      ]
     },
     "metadata": {
      "needs_background": "light"
     },
     "output_type": "display_data"
    }
   ],
   "source": [
    "# se muestra el reward/score promedio optenido por episodio\n",
    "plt.plot(np.array(meanDDQN), label='DDQN', c='#7e5fa4')\n",
    "plt.ylim(0, 250)\n",
    "plt.title('Recompensa promedio por episodio')\n",
    "plt.legend(loc='upper left')\n",
    "plt.show()"
   ]
  },
  {
   "cell_type": "markdown",
   "metadata": {},
   "source": [
    "# 2) Dueling Double DQN (DDDQN)"
   ]
  },
  {
   "cell_type": "code",
   "execution_count": 8,
   "metadata": {},
   "outputs": [],
   "source": [
    "class DNet(nn.Module):\n",
    "\n",
    "    def __init__(self, _input_size: int, _output_size: int,\n",
    "                 _hidden_layers: int, _hidden_size: int):\n",
    "        super(DNet, self).__init__()\n",
    "        self.input = nn.Linear(_input_size, _hidden_size)\n",
    "        self.hidden_layers = _hidden_layers\n",
    "        self.hidden = []\n",
    "        for i in range(_hidden_layers):\n",
    "            layer = nn.Linear(_hidden_size, _hidden_size)\n",
    "            self.add_module('h'+str(i), layer)\n",
    "            self.hidden.append(layer)\n",
    "        self.advantage = nn.Linear(_hidden_size, _output_size)\n",
    "        self.output = nn.Linear(_hidden_size, _output_size)\n",
    "\n",
    "        # init weights\n",
    "        for m in self.modules():\n",
    "            if isinstance(m, nn.Linear):\n",
    "                nn.init.xavier_uniform_(m.weight)\n",
    "                m.bias.data.fill_(0.01)\n",
    "\n",
    "    # Called with either one element to determine next action, or a batch\n",
    "    # during optimization. Returns tensor([[left0exp,right0exp]...]).\n",
    "    def forward(self, x):\n",
    "        x = F.relu(self.input(x))\n",
    "        for i in range(self.hidden_layers):\n",
    "            x = F.relu(self.hidden[i](x))\n",
    "        \n",
    "        advantage = F.relu(self.advantage(x))\n",
    "        x = self.output(x)\n",
    "        return x + advantage - advantage.mean()"
   ]
  },
  {
   "cell_type": "code",
   "execution_count": 9,
   "metadata": {},
   "outputs": [],
   "source": [
    "class DDDQN:\n",
    "    def __init__(self, env, n_episodes=3000, max_env_steps=None, gamma=0.9,\n",
    "                 epsilon=0.5, epsilon_min=0.05, epsilon_log_decay=0.001, alpha=1e-3,\n",
    "                 memory_size=10000, batch_size=256, c=10, hidden_layers=2, hidden_size=24,\n",
    "                 render=False, debug=False):\n",
    "\n",
    "        self.memory = ReplayMemory(capacity=memory_size)\n",
    "        self.env = env\n",
    "\n",
    "        # hyper-parameter setting\n",
    "        self.gamma = gamma\n",
    "        self.epsilon = epsilon\n",
    "        self.epsilon_min = epsilon_min\n",
    "        self.epsilon_decay = epsilon_log_decay\n",
    "        self.alpha = alpha\n",
    "        self.n_episodes = n_episodes\n",
    "        self.batch_size = batch_size\n",
    "        self.c = c\n",
    "        if max_env_steps is not None:\n",
    "            self.env._max_episode_steps = max_env_steps\n",
    "        self.observation_space_size = env.observation_space.shape[0]\n",
    "        self.action_space_size = env.action_space.n\n",
    "\n",
    "        self.render = render\n",
    "        self.debug = debug\n",
    "        if debug:\n",
    "            self.loss_list = []\n",
    "        # if gpu is to be used\n",
    "        self.device = torch.device(\"cuda\" if torch.cuda.is_available() else \"cpu\")\n",
    "\n",
    "        # Init model 1\n",
    "        # Use the nn package to define our model as a sequence of layers. nn.Sequential\n",
    "        # is a Module which contains other Modules, and applies them in sequence to\n",
    "        # produce its output. Each Linear Module computes output from input using a\n",
    "        # linear function, and holds internal Tensors for its weight and bias.\n",
    "        # After constructing the model we use the .to() method to move it to the\n",
    "        # desired device.\n",
    "        self.model = DNet(self.observation_space_size, self.action_space_size,\n",
    "                                hidden_layers, hidden_size).to(self.device)\n",
    "        self.target = DNet(self.observation_space_size, self.action_space_size,\n",
    "                                 hidden_layers, hidden_size).to(self.device)\n",
    "        self.target.load_state_dict(self.model.state_dict())\n",
    "        self.target.eval()\n",
    "        self.model.train()\n",
    "\n",
    "        # The nn package also contains definitions of popular loss functions; in this\n",
    "        # case we will use Mean Squared Error (MSE) as our loss function. Setting\n",
    "        # reduction='sum' means that we are computing the *sum* of squared errors rather\n",
    "        # than the mean; this is for consistency with the examples above where we\n",
    "        # manually compute the loss, but in practice it is more common to use mean\n",
    "        # squared error as a loss by setting reduction='elementwise_mean'.\n",
    "        self.loss_fn = torch.nn.MSELoss()\n",
    "\n",
    "        # Use the optim package to define an Optimizer that will update the weights of\n",
    "        # the model for us. Here we will use Adam; the optim package contains many other\n",
    "        # optimization algoriths. The first argument to the Adam constructor tells the\n",
    "        # optimizer which Tensors it should update.\n",
    "        self.optimizer = torch.optim.Adam(self.model.parameters(), lr=alpha)\n",
    "\n",
    "    def choose_action(self, state, epsilon):\n",
    "        \"\"\"Chooses the next action according to the model trained and the policy\"\"\"\n",
    "\n",
    "        # exploits the current knowledge if the random number > epsilon, otherwise explores\n",
    "        if np.random.random() <= epsilon:\n",
    "            return self.env.action_space.sample()\n",
    "        else:\n",
    "            with torch.no_grad():\n",
    "                q = self.model(state)\n",
    "                argmax = torch.argmax(q)\n",
    "                return argmax.item()\n",
    "\n",
    "    def get_epsilon(self, episode):\n",
    "        \"\"\"Returns an epsilon that decays over time until a minimum epsilon value is reached; in this case the minimum\n",
    "        value is returned\"\"\"\n",
    "        return max(self.epsilon_min, self.epsilon * math.exp(-self.epsilon_decay * episode))\n",
    "\n",
    "    def replay(self):\n",
    "        \"\"\"Previously stored (s, a, r, s') tuples are replayed (that is, are added into the model). The size of the\n",
    "        tuples added is determined by the batch_size parameter\"\"\"\n",
    "\n",
    "        transitions, _ = self.memory.sample(self.batch_size)\n",
    "        # Transpose the batch (see https://stackoverflow.com/a/19343/3343043 for\n",
    "        # detailed explanation). This converts batch-array of Transitions\n",
    "        # to Transition of batch-arrays.\n",
    "        batch = Transition(*zip(*transitions))\n",
    "        # Compute a mask of non-final states and concatenate the batch elements\n",
    "        # (a final state would've been the one after which simulation ended)\n",
    "        non_final_next_states = torch.stack([s for s in batch.next_state if s is not None])\n",
    "\n",
    "        non_final_mask = torch.stack(batch.done)\n",
    "        state_batch = torch.stack(batch.state)\n",
    "        action_batch = torch.stack(batch.action)\n",
    "        reward_batch = torch.stack(batch.reward)\n",
    "\n",
    "        # Compute Q(s_t, a) - the model computes Q(s_t), then we select the\n",
    "        # columns of actions taken. These are the actions which would've been taken\n",
    "        # for each batch state according to policy_net\n",
    "        state_action_values = self.model(state_batch).gather(1, action_batch)\n",
    "\n",
    "        # Compute V(s_{t+1}) for all next states.\n",
    "        # Expected values of actions for non_final_next_states are computed based\n",
    "        # on the \"older\" target_net; selecting their best reward with max(1)[0].\n",
    "        # This is merged based on the mask, such that we'll have either the expected\n",
    "        # state value or 0 in case the state was final.\n",
    "        with torch.no_grad():\n",
    "            next_state_values = torch.zeros(self.batch_size, device=self.device)\n",
    "            next_state_values[non_final_mask] = self.target(non_final_next_states).max(1)[0].detach()\n",
    "            # Compute the expected Q values\n",
    "            expected_state_action_values = reward_batch + self.gamma * next_state_values\n",
    "\n",
    "        # Compute loss\n",
    "        loss = self.loss_fn(state_action_values, expected_state_action_values.unsqueeze(1))\n",
    "\n",
    "        if self.debug:\n",
    "            self.loss_list.append(loss)\n",
    "        # Optimize the model\n",
    "        self.optimizer.zero_grad()\n",
    "        loss.backward()\n",
    "        for param in self.model.parameters():\n",
    "            param.grad.data.clamp_(-1, 1)\n",
    "        self.optimizer.step()\n",
    "\n",
    "    def run(self):\n",
    "        \"\"\"Main loop that controls the execution of the agent\"\"\"\n",
    "\n",
    "        scores = []\n",
    "        mean_scores = []\n",
    "        j = 0  # used for model2 update every c steps\n",
    "        for e in range(self.n_episodes):\n",
    "            state = self.env.reset()\n",
    "            state = torch.tensor(state, device=self.device, dtype=torch.float)\n",
    "            done = False\n",
    "            cum_reward = 0\n",
    "            while not done:\n",
    "                action = self.choose_action(\n",
    "                    state,\n",
    "                    self.get_epsilon(e))\n",
    "                next_state, reward, done, _ = self.env.step(action)\n",
    "                next_state = torch.tensor(next_state, device=self.device, dtype=torch.float)\n",
    "\n",
    "                cum_reward += reward\n",
    "                self.memory.push(\n",
    "                    state,  #Converted to tensor in choose_action method\n",
    "                    torch.tensor([action], device=self.device),\n",
    "                    None if done else next_state,\n",
    "                    torch.tensor(reward, device=self.device).clamp_(-1, 1),\n",
    "                    torch.tensor(not done, device=self.device, dtype=torch.bool))\n",
    "\n",
    "                if self.memory.__len__() >= self.batch_size:\n",
    "                    self.replay()\n",
    "\n",
    "                state = next_state\n",
    "                j += 1\n",
    "\n",
    "                # update second model\n",
    "                if j % self.c == 0:\n",
    "                    self.target.load_state_dict(self.model.state_dict())\n",
    "                    self.target.eval()\n",
    "\n",
    "            scores.append(cum_reward)\n",
    "            mean_score = np.mean(scores)\n",
    "            mean_scores.append(mean_score)\n",
    "            if e % 100 == 0 and self.debug:\n",
    "                print('[Episode {}] - Mean reward {}.'.format(e, mean_score))\n",
    "\n",
    "        # noinspection PyUnboundLocalVariable\n",
    "        print('[Episode {}] - Mean reward {}.'.format(e, mean_score))\n",
    "        return scores, mean_scores\n",
    "\n",
    "    def save(self, path):\n",
    "        torch.save(self.model, path)\n",
    "\n",
    "    def load(self, path):\n",
    "        self.model = torch.load(path)"
   ]
  },
  {
   "cell_type": "code",
   "execution_count": 10,
   "metadata": {},
   "outputs": [
    {
     "name": "stdout",
     "output_type": "stream",
     "text": [
      "[Episode 0] - Mean reward 8.0.\n",
      "[Episode 100] - Mean reward 60.87128712871287.\n",
      "[Episode 200] - Mean reward 54.97014925373134.\n",
      "[Episode 300] - Mean reward 48.97674418604651.\n",
      "[Episode 400] - Mean reward 47.43142144638404.\n",
      "[Episode 499] - Mean reward 49.166.\n"
     ]
    }
   ],
   "source": [
    "agent = DDDQN(gym.make('CartPole-v0'), n_episodes=500, debug=True)\n",
    "scoresDDDQN, meanDDDQN = agent.run()"
   ]
  },
  {
   "cell_type": "code",
   "execution_count": 11,
   "metadata": {},
   "outputs": [
    {
     "data": {
      "image/png": "[encoded data removed]",
      "text/plain": [
       "<Figure size 432x288 with 1 Axes>"
      ]
     },
     "metadata": {
      "needs_background": "light"
     },
     "output_type": "display_data"
    }
   ],
   "source": [
    "# se muestra el reward/score optenido por episodio\n",
    "plt.plot(np.array(scoresDDQN), label='DDQN', c='#7e5fa4')\n",
    "plt.plot(np.array(scoresDDDQN), label='DDDQN', c='#71bc78')\n",
    "plt.ylim(0, 250)\n",
    "plt.title('Recompensa por episodio')\n",
    "plt.legend(loc='upper left')\n",
    "plt.show()"
   ]
  },
  {
   "cell_type": "code",
   "execution_count": 12,
   "metadata": {},
   "outputs": [
    {
     "data": {
      "image/png": "[encoded data removed]",
      "text/plain": [
       "<Figure size 432x288 with 1 Axes>"
      ]
     },
     "metadata": {
      "needs_background": "light"
     },
     "output_type": "display_data"
    }
   ],
   "source": [
    "plt.plot(np.array(meanDDQN), label='DDQN', c='#7e5fa4')\n",
    "plt.plot(np.array(meanDDDQN), label='DDDQN', c='#71bc78')\n",
    "plt.ylim(0, 250)\n",
    "plt.title('Recompensa promedio por episodio')\n",
    "plt.legend(loc='upper left')\n",
    "plt.show()"
   ]
  },
  {
   "cell_type": "markdown",
   "metadata": {},
   "source": [
    "DDQN funciona un poco mejor que DDDQN al principio, pero luego funcionan en forma similar. "
   ]
  },
  {
   "cell_type": "markdown",
   "metadata": {},
   "source": [
    "# 3) Cambio de entorno: Acrobot-v1"
   ]
  },
  {
   "cell_type": "markdown",
   "metadata": {},
   "source": [
    "También se probó con MountainCar-v0 y Pendulum-v0, pero sin conseguir que el agente aprenda. "
   ]
  },
  {
   "cell_type": "markdown",
   "metadata": {},
   "source": [
    "### DDQN"
   ]
  },
  {
   "cell_type": "code",
   "execution_count": null,
   "metadata": {},
   "outputs": [
    {
     "name": "stdout",
     "output_type": "stream",
     "text": [
      "[Episode 0] - Mean reward -500.0.\n",
      "[Episode 100] - Mean reward -310.2970297029703.\n",
      "[Episode 200] - Mean reward -307.49751243781094.\n",
      "[Episode 300] - Mean reward -294.7375415282392.\n",
      "[Episode 400] - Mean reward -276.9650872817955.\n"
     ]
    }
   ],
   "source": [
    "agent = DDQN(gym.make('Acrobot-v1'), n_episodes=500, debug=True)\n",
    "scoresDDQN, meanDDQN = agent.run()"
   ]
  },
  {
   "cell_type": "code",
   "execution_count": null,
   "metadata": {},
   "outputs": [],
   "source": [
    "# se muestra el reward/score optenido por episodio\n",
    "plt.plot(np.array(scoresDDQN), label='DDQN', c='#7e5fa4')\n",
    "plt.ylim(-500, 100)\n",
    "plt.title('Recompensa por episodio')\n",
    "plt.legend(loc='upper left')\n",
    "plt.show()"
   ]
  },
  {
   "cell_type": "code",
   "execution_count": null,
   "metadata": {},
   "outputs": [],
   "source": [
    "plt.plot(np.array(meanDDQN), label='DDQN', c='#7e5fa4')\n",
    "plt.ylim(-500, 100)\n",
    "plt.title('Recompensa promedio por episodio')\n",
    "plt.legend(loc='upper left')\n",
    "plt.show()"
   ]
  },
  {
   "cell_type": "markdown",
   "metadata": {},
   "source": [
    "### DDDQN"
   ]
  },
  {
   "cell_type": "code",
   "execution_count": null,
   "metadata": {},
   "outputs": [],
   "source": [
    "agent = DDDQN(gym.make('Acrobot-v1'), n_episodes=500, debug=True)\n",
    "scoresDDDQN, meanDDDQN = agent.run()"
   ]
  },
  {
   "cell_type": "code",
   "execution_count": null,
   "metadata": {},
   "outputs": [],
   "source": [
    "# se muestra el reward/score optenido por episodio\n",
    "plt.plot(np.array(scoresDDQN), label='DDQN', c='#7e5fa4')\n",
    "plt.plot(np.array(scoresDDDQN), label='DDDQN', c='#71bc78')\n",
    "plt.ylim(-500, 100)\n",
    "plt.title('Recompensa por episodio')\n",
    "plt.legend(loc='upper left')\n",
    "plt.show()"
   ]
  },
  {
   "cell_type": "code",
   "execution_count": null,
   "metadata": {},
   "outputs": [],
   "source": [
    "plt.plot(np.array(meanDDQN), label='DDQN', c='#7e5fa4')\n",
    "plt.plot(np.array(meanDDDQN), label='DDDQN', c='#71bc78')\n",
    "plt.ylim(-500, 100)\n",
    "plt.title('Recompensa promedio por episodio')\n",
    "plt.legend(loc='upper left')\n",
    "plt.show()"
   ]
  },
  {
   "cell_type": "code",
   "execution_count": null,
   "metadata": {},
   "outputs": [],
   "source": [
    "En este caso DDDQN funciona un poco mejor DDQN, aunque la diferencia en el desempeño no es grande."
   ]
  }
 ],
 "metadata": {
  "kernelspec": {
   "display_name": "Python 3",
   "language": "python",
   "name": "python3"
  },
  "language_info": {
   "codemirror_mode": {
    "name": "ipython",
    "version": 3
   },
   "file_extension": ".py",
   "mimetype": "text/x-python",
   "name": "python",
   "nbconvert_exporter": "python",
   "pygments_lexer": "ipython3",
   "version": "3.7.4"
  }
 },
 "nbformat": 4,
 "nbformat_minor": 2
}

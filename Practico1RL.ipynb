{
 "cells": [
  {
   "cell_type": "markdown",
   "metadata": {},
   "source": [
    "# Práctico 1: Aprendizaje por refuerzos\n",
    "\n",
    "Curso Aprendizaje por Refuerzos, Diplomatura en Ciencia de Datos, Aprendizaje Automático y sus Aplicaciones\n",
    "\n",
    "FaMAF, 2019"
   ]
  },
  {
   "cell_type": "markdown",
   "metadata": {},
   "source": [
    "Se trabaja con The Cliff."
   ]
  },
  {
   "cell_type": "markdown",
   "metadata": {},
   "source": [
    "![](images/cliffwalking.png)\n",
    "\n",
    "donde S= starting point, G= goal.\n",
    "\n",
    "Descripción del entorno:\n",
    "\n",
    "Acciones:\n",
    "\n",
    "    ^ - Arriba \n",
    "    v - Abajo\n",
    "    > - Derecha\n",
    "    < - Izquierda\n",
    "\n",
    "Función de recompensa:\n",
    "\n",
    "$-1$ en todos los demás estados\n",
    "$-100$ en el acantilado\n",
    "Nota: caer en el acantilado devuelve al agente al estado inicial en un mismo episodio"
   ]
  },
  {
   "cell_type": "markdown",
   "metadata": {},
   "source": [
    "Primero, importamos:"
   ]
  },
  {
   "cell_type": "code",
   "execution_count": 1,
   "metadata": {},
   "outputs": [],
   "source": [
    "import matplotlib.pyplot as plt\n",
    "import itertools\n",
    "import gym\n",
    "import numpy as np\n",
    "from agents.utils.plotting import plot_reward_per_episode, plot_steps_per_episode, plot_steps_per_episode_smooth, draw_value_matrix"
   ]
  },
  {
   "cell_type": "markdown",
   "metadata": {},
   "source": [
    "# Actividad 1: SARSA"
   ]
  },
  {
   "cell_type": "code",
   "execution_count": 2,
   "metadata": {},
   "outputs": [],
   "source": [
    "def choose_action(state):\n",
    "    \"\"\"\n",
    "    Chooses an action according to the learning previously performed \n",
    "    using an epsilon-greedy exploration policy\n",
    "    \"\"\"\n",
    "    q_values = [q.get((state, a), 0.0) for a in actions]\n",
    "    # estado accion valor\n",
    "    max_q = max(q_values)\n",
    "\n",
    "    if random_state.uniform() < epsilon:\n",
    "        return random_state.choice(actions)  # a random action is selected\n",
    "\n",
    "    count = q_values.count(max_q)\n",
    "\n",
    "    # In case there're several state-action max values\n",
    "    # we select a random one among them\n",
    "    if count > 1:\n",
    "        best = [i for i in range(len(actions)) if q_values[i] == max_q]\n",
    "        i = random_state.choice(best)\n",
    "    else:\n",
    "        i = q_values.index(max_q)\n",
    "\n",
    "    return actions[i]"
   ]
  },
  {
   "cell_type": "code",
   "execution_count": 3,
   "metadata": {},
   "outputs": [],
   "source": [
    "def learn(state, action, reward, next_state, next_action):\n",
    "    \"\"\"\n",
    "    Performs a SARSA update for a given state transition\n",
    "    \"\"\"\n",
    "    oldQ = q.get((state, action), 0.0)\n",
    "    newQ = q.get((next_state, next_action), 0.0)\n",
    "    q[state, action] = oldQ + alpha*(reward + gamma* newQ - oldQ)\n",
    "    \n",
    "    pass"
   ]
  },
  {
   "cell_type": "code",
   "execution_count": 4,
   "metadata": {},
   "outputs": [],
   "source": [
    "def run():\n",
    "    \"\"\"\n",
    "    Runs the reinforcement learning agent with a given configuration.\n",
    "    \"\"\"\n",
    "    # list that contains the amount of time-steps of the episode. It is used as a way to score the performance of\n",
    "    # the agent.\n",
    "    timesteps_of_episode = []\n",
    "    # list that contains the amount of reward given to the agent in each episode\n",
    "    reward_of_episode = []\n",
    "\n",
    "    for i_episode in range(episodes_to_run):\n",
    "        # an instance of an episode is run until it fails or until it reaches 200 time-steps\n",
    "\n",
    "        # resets the environment, obtaining the first state observation\n",
    "        state = env.reset()\n",
    "\n",
    "        episode_reward = 0\n",
    "        done = False\n",
    "        t = 0\n",
    "\n",
    "        # Pick an action based on the current state\n",
    "        action = choose_action(state)\n",
    "        #aca llamar el choose action \n",
    "        # también cambiar el next action\n",
    "        #abajo compoear el learning\n",
    "        \n",
    "        while not done:\n",
    "\n",
    "            # Execute the action and get feedback\n",
    "            next_state, reward, done, info = env.step(action)\n",
    "            \n",
    "            next_action = choose_action(next_state)\n",
    "            \n",
    "\n",
    "            episode_reward += reward\n",
    "\n",
    "            if not done and t < 2000:  # if the algorithm does not converge, it stops after 2000 timesteps\n",
    "                learn(state, action, reward, next_state, next_action)\n",
    "                state = next_state\n",
    "                action = next_action\n",
    "            else:\n",
    "                done = True  # done is ensured to be True (in the case the algorithm did not reach convergence)\n",
    "                learn(state, action, reward, next_state, next_action)\n",
    "                timesteps_of_episode = np.append(timesteps_of_episode, [int(t + 1)])\n",
    "                reward_of_episode = np.append(reward_of_episode, max(episode_reward, -100))\n",
    "\n",
    "            t += 1\n",
    "\n",
    "    return reward_of_episode.mean(), timesteps_of_episode, reward_of_episode"
   ]
  },
  {
   "cell_type": "code",
   "execution_count": 5,
   "metadata": {},
   "outputs": [],
   "source": [
    "q = {}\n",
    "\n",
    "# definimos sus híper-parámetros básicos\n",
    "\n",
    "alpha = 0.5\n",
    "gamma = 1\n",
    "epsilon = 0.2\n",
    "tau = 25\n",
    "episodes_to_run = 500\n",
    "\n",
    "env = gym.make(\"CliffWalking-v0\")\n",
    "actions = range(env.action_space.n)\n",
    "\n",
    "# se declara una semilla aleatoria\n",
    "random_state = np.random.RandomState(42)"
   ]
  },
  {
   "cell_type": "code",
   "execution_count": 6,
   "metadata": {},
   "outputs": [],
   "source": [
    "avg_steps_per_episode, timesteps_ep, reward_ep = run()"
   ]
  },
  {
   "cell_type": "markdown",
   "metadata": {},
   "source": [
    "### Análisis de la ejecución del agente\n",
    "\n",
    "#### Análisis de convergencia"
   ]
  },
  {
   "cell_type": "code",
   "execution_count": 7,
   "metadata": {},
   "outputs": [
    {
     "data": {
      "image/png": "[encoded data removed]",
      "text/plain": [
       "<Figure size 432x288 with 1 Axes>"
      ]
     },
     "metadata": {
      "needs_background": "light"
     },
     "output_type": "display_data"
    }
   ],
   "source": [
    "plot_reward_per_episode(reward_ep)"
   ]
  },
  {
   "cell_type": "code",
   "execution_count": 8,
   "metadata": {},
   "outputs": [
    {
     "data": {
      "image/png": "[encoded data removed]",
      "text/plain": [
       "<Figure size 432x288 with 1 Axes>"
      ]
     },
     "metadata": {
      "needs_background": "light"
     },
     "output_type": "display_data"
    }
   ],
   "source": [
    "plot_steps_per_episode(timesteps_ep)"
   ]
  },
  {
   "cell_type": "code",
   "execution_count": 9,
   "metadata": {},
   "outputs": [
    {
     "data": {
      "image/png": "[encoded data removed]",
      "text/plain": [
       "<Figure size 432x288 with 1 Axes>"
      ]
     },
     "metadata": {
      "needs_background": "light"
     },
     "output_type": "display_data"
    }
   ],
   "source": [
    "plot_steps_per_episode_smooth(timesteps_ep)"
   ]
  },
  {
   "cell_type": "markdown",
   "metadata": {},
   "source": [
    "#### Análisis de matriz de acción-valor y política óptima"
   ]
  },
  {
   "cell_type": "code",
   "execution_count": 10,
   "metadata": {},
   "outputs": [
    {
     "data": {
      "image/png": "[encoded data removed]",
      "text/plain": [
       "<Figure size 432x288 with 2 Axes>"
      ]
     },
     "metadata": {
      "needs_background": "light"
     },
     "output_type": "display_data"
    },
    {
     "name": "stdout",
     "output_type": "stream",
     "text": [
      "\n",
      " Matriz de mejor acción-valor (en números): \n",
      "\n",
      " [[ -25.60615354  -19.97214063  -19.66223884  -17.97287785  -13.82427874\n",
      "   -11.11515525   -9.27791057   -8.04581475   -6.80688523   -5.44535949\n",
      "    -4.48421297   -4.00166729]\n",
      " [ -30.29422598  -27.53339416  -24.85469959  -22.69018628  -19.22919002\n",
      "   -17.78866218  -16.18070153  -13.27302364  -15.4192805    -8.82854097\n",
      "    -3.81737445   -4.8938518 ]\n",
      " [ -30.48636996  -31.99689014  -29.78582136  -25.72153721  -21.52842532\n",
      "   -19.6537621   -16.49301587  -16.246924    -13.37452953   -5.41073079\n",
      "    -2.46435349   -1.        ]\n",
      " [ -38.44338637 -100.         -100.         -100.         -100.\n",
      "  -100.         -100.         -100.         -100.         -100.\n",
      "  -100.           -1.        ]]\n"
     ]
    }
   ],
   "source": [
    "draw_value_matrix(q)"
   ]
  },
  {
   "cell_type": "code",
   "execution_count": 11,
   "metadata": {},
   "outputs": [],
   "source": [
    "env.close()"
   ]
  },
  {
   "cell_type": "markdown",
   "metadata": {},
   "source": [
    "# Actividad 2: Q learning"
   ]
  },
  {
   "cell_type": "code",
   "execution_count": 12,
   "metadata": {},
   "outputs": [],
   "source": [
    "def choose_action(state):\n",
    "    \"\"\"\n",
    "    Chooses an action according to the learning previously performed \n",
    "    using an epsilon-greedy exploration policy\n",
    "    \"\"\"\n",
    "    q_values = [q.get((state, a), 0.0) for a in actions]\n",
    "    # estado accion valor\n",
    "    max_q = max(q_values)\n",
    "\n",
    "    if random_state.uniform() < epsilon:\n",
    "        return random_state.choice(actions)  # a random action is selected\n",
    "\n",
    "    count = q_values.count(max_q)\n",
    "\n",
    "    # In case there're several state-action max values\n",
    "    # we select a random one among them\n",
    "    if count > 1:\n",
    "        best = [i for i in range(len(actions)) if q_values[i] == max_q]\n",
    "        i = random_state.choice(best)\n",
    "    else:\n",
    "        i = q_values.index(max_q)\n",
    "\n",
    "    return actions[i]"
   ]
  },
  {
   "cell_type": "code",
   "execution_count": 13,
   "metadata": {},
   "outputs": [],
   "source": [
    "def learn(state, action, reward, next_state):\n",
    "    \"\"\"\n",
    "    Performs a QQ update for a given state transition\n",
    "    \"\"\"\n",
    "    oldQ = q.get((state, action), 0.0)\n",
    "    q_values = [q.get((next_state, a), 0.0) for a in actions]\n",
    "    max_q = max(q_values)\n",
    "    newQ = max_q\n",
    "    q[state, action] = oldQ + alpha*(reward + gamma* newQ - oldQ)\n",
    "    # TODO - your code goes here\n",
    "    \n",
    "    pass"
   ]
  },
  {
   "cell_type": "code",
   "execution_count": 14,
   "metadata": {},
   "outputs": [],
   "source": [
    "#s={}\n",
    "#s[1,\"action\"]=1\n",
    "#s[2,\"action\"]=1\n",
    "#s.get((\"action\"))\n"
   ]
  },
  {
   "cell_type": "code",
   "execution_count": 15,
   "metadata": {},
   "outputs": [],
   "source": [
    "def run():\n",
    "    \"\"\"\n",
    "    Runs the reinforcement learning agent with a given configuration.\n",
    "    \"\"\"\n",
    "    # list that contains the amount of time-steps of the episode. It is used as a way to score the performance of\n",
    "    # the agent.\n",
    "    timesteps_of_episode = []\n",
    "    # list that contains the amount of reward given to the agent in each episode\n",
    "    reward_of_episode = []\n",
    "\n",
    "    for i_episode in range(episodes_to_run):\n",
    "        # an instance of an episode is run until it fails or until it reaches 200 time-steps\n",
    "\n",
    "        # resets the environment, obtaining the first state observation\n",
    "        state = env.reset()\n",
    "\n",
    "        episode_reward = 0\n",
    "        done = False\n",
    "        t = 0\n",
    "\n",
    "        # Pick an action based on the current state\n",
    "        #action = choose_action(state)\n",
    "        #aca llamar el choose action \n",
    "        # también cambiar el next action\n",
    "        #abajo compoear el learning\n",
    "        \n",
    "        while not done:\n",
    "\n",
    "            # Execute the action and get feedback\n",
    "            action = choose_action(state)\n",
    "            next_state, reward, done, info = env.step(action)\n",
    "            \n",
    "            \n",
    "            \n",
    "\n",
    "            episode_reward += reward\n",
    "\n",
    "            if not done and t < 2000:  # if the algorithm does not converge, it stops after 2000 timesteps\n",
    "                learn(state, action, reward, next_state)\n",
    "                state = next_state\n",
    "                #action = next_action\n",
    "            else:\n",
    "                done = True  # done is ensured to be True (in the case the algorithm did not reach convergence)\n",
    "                learn(state, action, reward, next_state)\n",
    "                timesteps_of_episode = np.append(timesteps_of_episode, [int(t + 1)])\n",
    "                reward_of_episode = np.append(reward_of_episode, max(episode_reward, -100))\n",
    "\n",
    "            t += 1\n",
    "\n",
    "    return reward_of_episode.mean(), timesteps_of_episode, reward_of_episode"
   ]
  },
  {
   "cell_type": "code",
   "execution_count": 16,
   "metadata": {},
   "outputs": [],
   "source": [
    "q = {}\n",
    "\n",
    "# definimos sus híper-parámetros básicos\n",
    "\n",
    "#lineas comentadas, para usar los mismos hiperparámetros que en el algoritmo SARSA y comparar \n",
    "# directamente se definen los hiperparámetros en el agoritmo SARSA y luego q lerning se ejecuta\n",
    "# con los mismos valores\n",
    "#alpha = 0.6\n",
    "#gamma = 1\n",
    "#epsilon = 0.3\n",
    "#tau = 25\n",
    "#episodes_to_run = 1000\n",
    "\n",
    "env = gym.make(\"CliffWalking-v0\")\n",
    "actions = range(env.action_space.n)\n",
    "\n",
    "# se declara una semilla aleatoria\n",
    "random_state = np.random.RandomState(42)"
   ]
  },
  {
   "cell_type": "code",
   "execution_count": 17,
   "metadata": {},
   "outputs": [],
   "source": [
    "avg_steps_per_episode, timesteps_ep, reward_ep = run()"
   ]
  },
  {
   "cell_type": "markdown",
   "metadata": {},
   "source": [
    "### Análisis de la ejecución del agente\n",
    "\n",
    "#### Análisis de convergencia\n",
    "\n",
    "Para analizar la ejecución del agente, vamos a ver cómo se desempeñó el mismo en dos curvas:\n",
    "\n",
    "* Recompensa obtenida en cada episodio: nos dirá cuánta recompensa obtuvo el agente sumando cada una de recompensas individuales de cada episodio. Con esta medida podremos tener una noción de cómo se desempeñó esquivando el acantilado y llegando lo antes posible a la meta.\n",
    "\n",
    "* Pasos transcurridos en cada episodio: indicará cuántos pasos le ha llevado al agente la ejecución del episodio.\n",
    "\n",
    "Se estila suavizar ambas curvas para apreciar mejor su progresión (aunque a veces suele analizarse la curva de pasos por episodio sin suavizar)."
   ]
  },
  {
   "cell_type": "markdown",
   "metadata": {},
   "source": [
    "Veamos recompensa por episodio (recordar que en este entorno cada paso otorga una recompensa de $-1$ excepto al caer al acantilado, donde la recompensa es de $-100$)"
   ]
  },
  {
   "cell_type": "code",
   "execution_count": 18,
   "metadata": {},
   "outputs": [
    {
     "data": {
      "image/png": "[encoded data removed]",
      "text/plain": [
       "<Figure size 432x288 with 1 Axes>"
      ]
     },
     "metadata": {
      "needs_background": "light"
     },
     "output_type": "display_data"
    }
   ],
   "source": [
    "plot_reward_per_episode(reward_ep)"
   ]
  },
  {
   "cell_type": "markdown",
   "metadata": {},
   "source": [
    "Veamos pasos por episodio"
   ]
  },
  {
   "cell_type": "code",
   "execution_count": 19,
   "metadata": {},
   "outputs": [
    {
     "data": {
      "image/png": "[encoded data removed]",
      "text/plain": [
       "<Figure size 432x288 with 1 Axes>"
      ]
     },
     "metadata": {
      "needs_background": "light"
     },
     "output_type": "display_data"
    }
   ],
   "source": [
    "plot_steps_per_episode(timesteps_ep)"
   ]
  },
  {
   "cell_type": "markdown",
   "metadata": {},
   "source": [
    "Suavizando..."
   ]
  },
  {
   "cell_type": "code",
   "execution_count": 20,
   "metadata": {},
   "outputs": [
    {
     "data": {
      "image/png": "[encoded data removed]",
      "text/plain": [
       "<Figure size 432x288 with 1 Axes>"
      ]
     },
     "metadata": {
      "needs_background": "light"
     },
     "output_type": "display_data"
    }
   ],
   "source": [
    "plot_steps_per_episode_smooth(timesteps_ep)"
   ]
  },
  {
   "cell_type": "markdown",
   "metadata": {},
   "source": [
    "#### Análisis de matriz de acción-valor y política óptima\n",
    "\n",
    "Siendo que este es un ejemplo tabular y de pocos estados / acciones, es posible realizar un análisis de convergencia desde otro punto de vista: desde el valor de la función $Q(s,a)$ para la mejor acción de cada estado, al finalizar el entrenamiento del agente, (sería la acción que el agente ejecutaría en cada estado bajo una política *greedy*). Ambos nos brindarán información sobre la convergencia alcanzada por el agente.\n",
    "\n",
    "Tener en cuenta que este análisis se hace principalmente con fines educativos, para entornos más complejos el mismo puede no ser factible. En tales casos, un análisis alternativo podría consistir en hacer que el agente ejecute su política para la que fue entrenado, para hacer una evaluación a partir del comportamiento del mismo (esto último sería el *test de la política*, frente al *entrenamiento de la política* previo)."
   ]
  },
  {
   "cell_type": "code",
   "execution_count": 21,
   "metadata": {},
   "outputs": [
    {
     "data": {
      "image/png": "[encoded data removed]",
      "text/plain": [
       "<Figure size 432x288 with 2 Axes>"
      ]
     },
     "metadata": {
      "needs_background": "light"
     },
     "output_type": "display_data"
    },
    {
     "name": "stdout",
     "output_type": "stream",
     "text": [
      "\n",
      " Matriz de mejor acción-valor (en números): \n",
      "\n",
      " [[ -12.72318473  -12.3205249   -11.58325018  -10.82335277   -9.89716369\n",
      "    -8.93740545   -7.95246501   -6.96786682   -5.97901571   -4.99063695\n",
      "    -3.9970989    -2.99999455]\n",
      " [ -12.99998564  -11.99999994  -10.99999999  -10.           -9.\n",
      "    -8.           -7.           -6.           -5.           -4.\n",
      "    -3.           -2.        ]\n",
      " [ -12.          -11.          -10.           -9.           -8.\n",
      "    -7.           -6.           -5.           -4.           -3.\n",
      "    -2.           -1.        ]\n",
      " [ -13.         -100.         -100.         -100.         -100.\n",
      "  -100.         -100.         -100.         -100.         -100.\n",
      "  -100.           -1.        ]]\n"
     ]
    }
   ],
   "source": [
    "draw_value_matrix(q)"
   ]
  },
  {
   "cell_type": "code",
   "execution_count": 22,
   "metadata": {},
   "outputs": [],
   "source": [
    "env.close()"
   ]
  },
  {
   "cell_type": "markdown",
   "metadata": {},
   "source": [
    "## Comparación de SARSA con Q learning\n",
    "\n",
    "Para comparar los algoritmos se fijaron valores comunes de los hiperparámetros, a saber: alpha = 0.6; gamma = 1; epsilon = 0.3; tau = 25 y episodes_to_run = 1000. \n",
    "\n",
    "Recompensa acumulada por episodio: en SARSA converge suavemente a aproximadamente  -60; en Q learning converge rápidamente a -70. O sea que Q learning esta llegando en las 1000 iteraciones a un reultado peor, pero lo hace mas rápidamente.\n",
    "\n",
    "Pasos por episodio: en ambos casos convergen a aproximadamente 50, aunque aparentemente Q learning lo hace mas rápidamente.\n",
    "\n",
    "Análisis de matriz de acción-valor y política óptima: SARSA tiende a ser mas precavido. Al menos bajo los hiperparámetros usados, la matriz de acción valor de SARSA está recomendando al agente que se aleje del risco, en cambio Q-learning le está indicando que lo bordee. Esto se debe a que en Q learning se intenta separar acciones de políticas.\n"
   ]
  },
  {
   "cell_type": "markdown",
   "metadata": {},
   "source": [
    " # Actividad 3: Experimentación con los hiperparámetros"
   ]
  },
  {
   "cell_type": "markdown",
   "metadata": {},
   "source": [
    "### Epsilon \n",
    "\n",
    "Las modificaciones en el hiperparámetro $\\epsilon$ tienen consecuencias dramáticas en ambos algoritmos. Si es fijado en cero ambos métodos encuentra la solución rápidamente. Cuanto mas grande es su valor, a los algoritmos les cuesta más encontrar el óptimo porque se dedican a explorar más el entorno. Entiendo que esto se debe fundamentalmente a que dicho entorno  es determinístico, por lo que una vez encontrada una acción optima, la misma seguirá siendo óptima, por lo que una incorporación del componente epsilon no aporta nada útil.\n",
    "\n",
    "### Gamma\n",
    "\n",
    "Si se fija gamma en cero, claramente empeora el desempeño del agente en ambas políticas . Esto se debe a que al ponerle peso máximo a la recompensa de corto plazo el agente se concentra en obtener recompensas instantáneas, lo que atenta contra la optimalidad global. No aprecio diferencias entre $\\gamma= 1 $ y $0< \\gamma<1$.\n",
    "\n",
    "### Alpha\n",
    "\n",
    "Si $\\alpha=0$ los algoritmos no funcionan bien porque el agente no recuerda nada.\n",
    "Si $\\alpha=1$ los algoritmos funcionan relativamente bien, al menos en el caso con $\\gamma=1$, porque el agente tiene memoria perfecta.\n",
    "Si $\\alpha$ asume un valor cercano a 0.5 los algoritmos funcionan mejor que en los casos extremos.\n"
   ]
  }
 ],
 "metadata": {
  "kernelspec": {
   "display_name": "Python 3",
   "language": "python",
   "name": "python3"
  },
  "language_info": {
   "codemirror_mode": {
    "name": "ipython",
    "version": 3
   },
   "file_extension": ".py",
   "mimetype": "text/x-python",
   "name": "python",
   "nbconvert_exporter": "python",
   "pygments_lexer": "ipython3",
   "version": "3.7.4"
  }
 },
 "nbformat": 4,
 "nbformat_minor": 2
}
